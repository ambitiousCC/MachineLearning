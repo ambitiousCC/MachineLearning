{
 "cells": [
  {
   "cell_type": "markdown",
   "metadata": {},
   "source": [
    "# 数据\n",
    "* 特征空间\n",
    "* 分类的任务本质就是在特征空间切分"
   ]
  },
  {
   "cell_type": "markdown",
   "metadata": {},
   "source": [
    "# 分类任务\n",
    "* 二分类\n",
    "* 多分类\n",
    "    * 数字识别\n",
    "    * 图像识别\n",
    "    * 判断发给客户信用卡的风险评级\n",
    "一些算法支支持完成二分类的任务\n",
    "但是多分类的任务可以转换长城二分类的任务\n",
    "* 多标签分类"
   ]
  },
  {
   "cell_type": "markdown",
   "metadata": {},
   "source": [
    "# 回归任务\n",
    "* 结果是一个连续数字的值，而不是一个类别\n",
    "    * 房屋价格\n",
    "    * 市场分析\n",
    "    * 学生成绩\n",
    "    * 股票价格\n",
    "* 部分算法只能解决回归问题，部分算法只能解决分类分类问题，而有的都可以解决·"
   ]
  },
  {
   "cell_type": "markdown",
   "metadata": {},
   "source": [
    "# 机器学习\n",
    "得到的就是f(x)函数，从学习资料中通过机器学习算法。\n",
    "* 得到的是数值，就是一个回归问题\n",
    "* 另一个就是分类问题\n",
    "* 这两个都属于监督学习"
   ]
  },
  {
   "cell_type": "markdown",
   "metadata": {},
   "source": [
    "# 按照机器学习算法来分类\n",
    "* 监督学习\n",
    "    * 给机器的训练数据拥有标记或者答案\n",
    "    * 图像已经拥有了标定信息\n",
    "* 非监督学习\n",
    "    * 给机器的训练数据没有任何的标记或者标签\n",
    "    * 聚类分类工作\n",
    "    * 可以对数据进行降维处理\n",
    "       * 特征提取\n",
    "       * 特征压缩：PCA，可以降维\n",
    "       * 方便可视化\n",
    "       * 异常检测\n",
    "* 半监督学习\n",
    "    * 一部分数据具有标记或者答案，另一部分数据并没有\n",
    "    * 各种原因产生的标记缺失\n",
    "    * 先使用无监督学习的手段对数据进行处理，然后使用监督学习手段作为模型的训练和预测\n",
    "* 增强学习\n",
    "    * 使用不同的机制进行反馈，然后不断地对机器行为进行优化\n",
    "    * 监督学习与半监督学习是基础"
   ]
  },
  {
   "cell_type": "markdown",
   "metadata": {},
   "source": [
    "# 机器学习和在线学习\n",
    "* 在线学习\n",
    "    * 有点：及时反映新的环境变化\n",
    "    * 问题：新的数据带来不好的变化\n",
    "    * 解决方案：需要加强对数据进行监控\n",
    "    * 其他：也适用于数据量巨大，但是完全无法批量学习环境\n",
    "* 参数学习的特点\n",
    "    * 一旦学到了桉树，就不再需要原有的数据集\n",
    "* 非参数学习\n",
    "    * 不对模型进行过多假设\n",
    "    * 非参数不等于没参数"
   ]
  },
  {
   "cell_type": "markdown",
   "metadata": {},
   "source": [
    "# 哲学思考\n",
    "* 数据本身的确十分重要\n",
    "* 数据驱动\n",
    "* 收集更多的数据"
   ]
  },
  {
   "cell_type": "code",
   "execution_count": null,
   "metadata": {},
   "outputs": [],
   "source": []
  }
 ],
 "metadata": {
  "kernelspec": {
   "display_name": "Python 3",
   "language": "python",
   "name": "python3"
  },
  "language_info": {
   "codemirror_mode": {
    "name": "ipython",
    "version": 3
   },
   "file_extension": ".py",
   "mimetype": "text/x-python",
   "name": "python",
   "nbconvert_exporter": "python",
   "pygments_lexer": "ipython3",
   "version": "3.7.4"
  }
 },
 "nbformat": 4,
 "nbformat_minor": 2
}
