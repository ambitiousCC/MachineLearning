{
 "cells": [
  {
   "cell_type": "markdown",
   "metadata": {},
   "source": [
    "## 快速幂运算\n",
    "$$\n",
    "    2^1,2^2,2^4,2^8\n",
    "$$\n",
    "$$\n",
    "    2^(10)=2^2*2^8\n",
    "$$\n",
    "**注：适用于所有的底数，算法时间复杂度为O(log)**"
   ]
  },
  {
   "cell_type": "code",
   "execution_count": 23,
   "metadata": {},
   "outputs": [],
   "source": [
    "def pow_2(b):\n",
    "    x = 2\n",
    "    res = 1\n",
    "    while(b>0):\n",
    "        if(b&1):\n",
    "            res*=x\n",
    "        b>>=1;\n",
    "        x=x*x\n",
    "    return res"
   ]
  },
  {
   "cell_type": "code",
   "execution_count": 24,
   "metadata": {},
   "outputs": [
    {
     "name": "stdout",
     "output_type": "stream",
     "text": [
      "16\n"
     ]
    }
   ],
   "source": [
    "print(pow_2(4))"
   ]
  },
  {
   "cell_type": "markdown",
   "metadata": {},
   "source": [
    "## 最大公约数\n",
    "递归思想，woc"
   ]
  },
  {
   "cell_type": "code",
   "execution_count": 12,
   "metadata": {},
   "outputs": [],
   "source": [
    "def gcd(a,b):\n",
    "    return a if(b==0) else gcd(b,a%b)"
   ]
  },
  {
   "cell_type": "code",
   "execution_count": 15,
   "metadata": {},
   "outputs": [
    {
     "name": "stdout",
     "output_type": "stream",
     "text": [
      "1\n"
     ]
    }
   ],
   "source": [
    "print(gcd(4,5))"
   ]
  },
  {
   "cell_type": "markdown",
   "metadata": {},
   "source": [
    "## 判断闰年"
   ]
  },
  {
   "cell_type": "code",
   "execution_count": 44,
   "metadata": {},
   "outputs": [],
   "source": [
    "def isLeap(year):\n",
    "    return (year%4==0 and year%100!=0) or year%400==0"
   ]
  },
  {
   "cell_type": "code",
   "execution_count": 45,
   "metadata": {},
   "outputs": [
    {
     "name": "stdout",
     "output_type": "stream",
     "text": [
      "True\n"
     ]
    }
   ],
   "source": [
    "print(isLeap(2000))    "
   ]
  },
  {
   "cell_type": "markdown",
   "metadata": {},
   "source": [
    "# 日期处理\n",
    "从某天到某天中的某星期有几天\n",
    "从1901年1月1日到2000年12月31日之间有几个星期一？"
   ]
  },
  {
   "cell_type": "code",
   "execution_count": 46,
   "metadata": {},
   "outputs": [
    {
     "name": "stdout",
     "output_type": "stream",
     "text": [
      "36519\n",
      "5217\n"
     ]
    }
   ],
   "source": [
    "# 将所有天数搞定\n",
    "day = 0\n",
    "for i in range(1901,2001):\n",
    "    if (isLeap(i)):\n",
    "        day += 366\n",
    "    else:\n",
    "        day += 365\n",
    "# 从后往前找星期一，发现12.25是，散去6天\n",
    "day -= 6\n",
    "res = 0\n",
    "print(day)\n",
    "for i in range(day,0,-7):\n",
    "    res += 1\n",
    "print(res)\n",
    "    "
   ]
  },
  {
   "cell_type": "code",
   "execution_count": 42,
   "metadata": {},
   "outputs": [
    {
     "name": "stdout",
     "output_type": "stream",
     "text": [
      "10\n",
      "8\n",
      "6\n",
      "4\n",
      "2\n"
     ]
    }
   ],
   "source": [
    "for i in range(10,0,-2):\n",
    "    print(i)"
   ]
  },
  {
   "cell_type": "markdown",
   "metadata": {},
   "source": [
    "## 整数转换成二进制\n"
   ]
  },
  {
   "cell_type": "code",
   "execution_count": 73,
   "metadata": {},
   "outputs": [
    {
     "name": "stdout",
     "output_type": "stream",
     "text": [
      "['1', '0', '0']\n",
      "100\n",
      "10100\n"
     ]
    }
   ],
   "source": [
    "# 法一\n",
    "b1 = list(bin(4))[2:]\n",
    "print(b1)\n",
    "print(''.join(b1))\n",
    "# 法二*\n",
    "b2 = \"{0:b}\".format(20)\n",
    "print(b2)\n",
    "\n",
    "\n",
    "# 转换成固定长度:n为数字,m为转换成为的位数\n",
    "def toBinaryStr(n,m):\n",
    "    b = ''.join(list(bin(n))[2:])\n",
    "    l = len(b)\n",
    "    if(l<m):\n",
    "        los = m - l\n",
    "        s = str(0)*los\n",
    "    fin = s + b\n",
    "    print(fin)  "
   ]
  },
  {
   "cell_type": "code",
   "execution_count": 74,
   "metadata": {},
   "outputs": [
    {
     "name": "stdout",
     "output_type": "stream",
     "text": [
      "00000100\n"
     ]
    }
   ],
   "source": [
    "toBinaryStr(4,8)"
   ]
  },
  {
   "cell_type": "code",
   "execution_count": null,
   "metadata": {},
   "outputs": [],
   "source": []
  }
 ],
 "metadata": {
  "kernelspec": {
   "display_name": "Python 3",
   "language": "python",
   "name": "python3"
  },
  "language_info": {
   "codemirror_mode": {
    "name": "ipython",
    "version": 3
   },
   "file_extension": ".py",
   "mimetype": "text/x-python",
   "name": "python",
   "nbconvert_exporter": "python",
   "pygments_lexer": "ipython3",
   "version": "3.7.4"
  }
 },
 "nbformat": 4,
 "nbformat_minor": 2
}
